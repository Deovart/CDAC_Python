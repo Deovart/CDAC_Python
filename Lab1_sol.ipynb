{
 "cells": [
  {
   "cell_type": "markdown",
   "metadata": {},
   "source": [
    "Q1: Write a Python program which accept the radius of a circle from the user and compute the area.\n",
    "Sample Output : \n",
    "r = 1.1\n",
    "Area = 3.8013271108436504\n",
    "\n",
    "\n"
   ]
  },
  {
   "cell_type": "code",
   "execution_count": null,
   "metadata": {},
   "outputs": [],
   "source": [
    "radius = int(input(\"Enter the radius of the circle: \"))\n",
    "pi = 3.14\n",
    "\n",
    "print(pow(radius,2)*pi)"
   ]
  },
  {
   "cell_type": "markdown",
   "metadata": {},
   "source": [
    "Q2: Temperature of a city in Fahrenheit degrees is input through the keyboard. Write a program to convert this temperature into Centigrade degrees. \n"
   ]
  },
  {
   "cell_type": "code",
   "execution_count": null,
   "metadata": {},
   "outputs": [],
   "source": [
    "temp = float(input(\"Enter the temperature in Fahrenheit: \"))\n",
    "\n",
    "celcius = (temp - 32.0) * 5/9\n",
    "\n",
    "print(\"The temperature in degree celcius is: \",celcius)"
   ]
  },
  {
   "cell_type": "markdown",
   "metadata": {},
   "source": [
    "\n",
    "\n",
    "Q3: Write a Python Program to make a simple calculator that can add, subtract, multiply and divide \n"
   ]
  },
  {
   "cell_type": "code",
   "execution_count": null,
   "metadata": {},
   "outputs": [],
   "source": [
    "num_one = float(input(\"Enter first number: \"))\n",
    "num_two = float(input(\"Enter second number: \"))\n",
    "\n",
    "\n",
    "print(\"Addition of two numbers is: \", num_one+num_two)\n",
    "\n",
    "print(\"Substraction of two numbers is: \", num_one-num_two)\n",
    "\n",
    "print(\"Multiplication of two numbers is: \", num_one*num_two)\n",
    "\n",
    "print(\"Division of two numbers is: \", num_one/num_two)"
   ]
  },
  {
   "cell_type": "markdown",
   "metadata": {},
   "source": [
    "\n",
    "Q4: Write a Python Program to calculate the square root\n",
    "\n"
   ]
  },
  {
   "cell_type": "code",
   "execution_count": null,
   "metadata": {},
   "outputs": [],
   "source": [
    "import math\n",
    "num_sq = float(input(\"Enter the number: \"))\n",
    "\n",
    "print(math.sqrt(num_sq))"
   ]
  },
  {
   "cell_type": "markdown",
   "metadata": {},
   "source": [
    "\n",
    "Q5: Write a Python Program to Solve the quadratic equation ax**2 + bx + c = 0\n",
    "\n",
    "#Coeffients a, b and c are provided by the user\n"
   ]
  },
  {
   "cell_type": "code",
   "execution_count": null,
   "metadata": {},
   "outputs": [],
   "source": [
    "import cmath\n",
    "a = float(input(\"Enter first number: \"))\n",
    "b = float(input(\"Enter second number: \"))\n",
    "c = float(input(\"Enter third number: \"))\n",
    "\n",
    "solution_one = (-b+cmath.sqrt(b**2 - 4*a*c))/2*a\n",
    "solution_two = (-b-cmath.sqrt(b**2 - 4*a*c))/2*a\n",
    "print(solution_one)\n",
    "print(solution_two)"
   ]
  },
  {
   "cell_type": "markdown",
   "metadata": {},
   "source": [
    "\n",
    "Q6: Write a Python Program to find the area of triangle\n",
    "\n",
    "#Three sides of the triangle a, b and c are provided by the user\n"
   ]
  },
  {
   "cell_type": "code",
   "execution_count": null,
   "metadata": {},
   "outputs": [],
   "source": [
    "import cmath\n",
    "side_a = float(input(\"Enter side one: \")) \n",
    "side_b = float(input(\"Enter side two: \"))\n",
    "side_c = float(input(\"Enter side three: \"))\n",
    "\n",
    "s = (a+b+c)/2\n",
    "\n",
    "area = cmath.sqrt(s*(s-a)*(s-b)*(s-c))\n",
    "\n",
    "print(area)\n"
   ]
  },
  {
   "cell_type": "markdown",
   "metadata": {},
   "source": [
    "\n",
    "Q7: If a five-digit number is input through the keyboard, write a program to calculate the sum of its digits without using any loop. (Hint: Use the modulus operator ‘%’) \n"
   ]
  },
  {
   "cell_type": "code",
   "execution_count": null,
   "metadata": {},
   "outputs": [],
   "source": [
    "five_num = int(input(\"Enter five digit number: \"))\n",
    "\n",
    "z = five_num%10\n",
    "y = int((five_num/10))%10\n",
    "x = int((five_num/100))%10\n",
    "w = int((five_num/1000))%10\n",
    "v = int((five_num/10000))%10\n",
    "\n",
    "print(z+x+y+w+v)"
   ]
  },
  {
   "cell_type": "markdown",
   "metadata": {},
   "source": [
    "Q8: Write a Python program to print the following string in a specific format\n",
    "\"Twinkle, twinkle, little star, How I wonder what you are! Up above the world so high, Like a diamond in the sky.Twinkle, twinkle, little star, How I wonder what you are! \""
   ]
  },
  {
   "cell_type": "code",
   "execution_count": null,
   "metadata": {},
   "outputs": [],
   "source": [
    "string = \"Twinkle, twinkle, little star, How I wonder what you are! Up above the world so high, Like a diamond in the sky.Twinkle, twinkle, little star, How I wonder what you are! \"\n",
    "\n",
    "\n",
    "print( \"Twinkle, twinkle, little star,\\n\\t How I wonder what you are! \\n\\t\\tUp above the world so high, \\n\\t\\tLike a diamond in the sky.\\nTwinkle, twinkle, little star,\\n\\t How I wonder what you are! \"\n",
    ")"
   ]
  },
  {
   "cell_type": "markdown",
   "metadata": {},
   "source": [
    "Q9: Write a Python program to display your details like name, age, address in three different lines."
   ]
  },
  {
   "cell_type": "code",
   "execution_count": null,
   "metadata": {},
   "outputs": [],
   "source": [
    "name = input(\"Enter name: \")\n",
    "age = input(\"Enter age: \")\n",
    "address = input(\"Enter address: \")\n",
    "\n",
    "print(name,age,address, sep='\\n')"
   ]
  }
 ],
 "metadata": {
  "kernelspec": {
   "display_name": "Python 3",
   "language": "python",
   "name": "python3"
  },
  "language_info": {
   "codemirror_mode": {
    "name": "ipython",
    "version": 3
   },
   "file_extension": ".py",
   "mimetype": "text/x-python",
   "name": "python",
   "nbconvert_exporter": "python",
   "pygments_lexer": "ipython3",
   "version": "3.8.5"
  }
 },
 "nbformat": 4,
 "nbformat_minor": 4
}
