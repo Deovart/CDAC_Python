{
 "cells": [
  {
   "cell_type": "markdown",
   "metadata": {},
   "source": [
    "Q1: Write a function to compute 5/0 and use try/except to catch the exceptions.\n"
   ]
  },
  {
   "cell_type": "code",
   "execution_count": 149,
   "metadata": {},
   "outputs": [
    {
     "name": "stdout",
     "output_type": "stream",
     "text": [
      "Error!\n"
     ]
    }
   ],
   "source": [
    "# class exception1(Exception):\n",
    "# #     print(\"This is first user defined exception\")\n",
    "#     pass\n",
    "\n",
    "# # x= 5\n",
    "# y = 0\n",
    "\n",
    "# x = int(input(\"ENter: \"))\n",
    "\n",
    "\n",
    "class Compute():\n",
    "    \n",
    "    def __init__(self):\n",
    "#         self.x = x\n",
    "#         self.y = y\n",
    "        pass\n",
    "    \n",
    "    try:\n",
    "        if (x == 5/0):\n",
    "            pass\n",
    "            \n",
    "        \n",
    "    except:\n",
    "        \n",
    "        print(\"Error!\")\n",
    "#         print(\"ERROR! Division by zero\")\n",
    "    \n",
    "    \n"
   ]
  },
  {
   "cell_type": "markdown",
   "metadata": {},
   "source": [
    "\n",
    "Q2: Write a Python program to access the array element whose index is out of bound and handle the corresponding exception"
   ]
  },
  {
   "cell_type": "code",
   "execution_count": 79,
   "metadata": {},
   "outputs": [],
   "source": [
    "array2 = ['a','c','c'] \n",
    "# array2 = ['a','c','c','c','c'] \n",
    "\n",
    "\n",
    "class ArrayException(Exception):\n",
    "    \"Exception Created\"\n",
    "    pass\n",
    "\n",
    "class AccessArray(ArrayException):\n",
    "    \n",
    "    def userMthd(self):\n",
    "        try:\n",
    "            for i in range (5):\n",
    "#                 print(array2[i])\n",
    "                if (len(array2) < 5):\n",
    "                    raise ArrayException()\n",
    "\n",
    "        except:\n",
    "            print(\"Index exceeded!\")"
   ]
  },
  {
   "cell_type": "code",
   "execution_count": 80,
   "metadata": {},
   "outputs": [
    {
     "name": "stdout",
     "output_type": "stream",
     "text": [
      "Index exceeded!\n"
     ]
    }
   ],
   "source": [
    "c=AccessArray()\n",
    "c.userMthd()"
   ]
  },
  {
   "cell_type": "markdown",
   "metadata": {},
   "source": [
    "Q 3: Write a Python  Program to handle multiple errors with one except statement\n"
   ]
  },
  {
   "cell_type": "code",
   "execution_count": 81,
   "metadata": {},
   "outputs": [
    {
     "name": "stdout",
     "output_type": "stream",
     "text": [
      "Either Zero Division Error or maybe NameError\n"
     ]
    }
   ],
   "source": [
    "class MultipleException(Exception):\n",
    "    pass\n",
    "\n",
    "\n",
    "class TestMul():\n",
    "    \n",
    "    try:\n",
    "        x= 5/0\n",
    "        a = a\n",
    "        \n",
    "        \n",
    "    except(ZeroDivisionError, NameError):\n",
    "        print(\"Either Zero Division Error or maybe NameError\")"
   ]
  },
  {
   "cell_type": "markdown",
   "metadata": {},
   "source": [
    "Q 4: Write a Python Program to depict else clause with try-except\n"
   ]
  },
  {
   "cell_type": "code",
   "execution_count": 104,
   "metadata": {},
   "outputs": [],
   "source": [
    "class userException(Exception):\n",
    "#     print(\"In the End, Exception!\")\n",
    "    pass\n",
    "\n",
    "\n",
    "class ElseTryExcept():\n",
    "    \n",
    "    def __init__(self):\n",
    "        pass\n",
    "    \n",
    "    \n",
    "    def userCall(self, name):\n",
    "        \n",
    "        try:\n",
    "            if(name =='cdac' or name =='CDAC' ):\n",
    "#                 print(\"I tried!\")\n",
    "                raise userException(\"CDAC has been summoned\") \n",
    "        except userException as uE:\n",
    "            print(uE)\n",
    "            \n",
    "        else:\n",
    "            print(\"Else, still moving ahead!\")\n",
    "        finally:\n",
    "            print(\"Finally, you've reached the apex!\")\n",
    "            "
   ]
  },
  {
   "cell_type": "code",
   "execution_count": 105,
   "metadata": {},
   "outputs": [
    {
     "name": "stdout",
     "output_type": "stream",
     "text": [
      "CDAC has been summoned\n",
      "Finally, you've reached the apex!\n"
     ]
    }
   ],
   "source": [
    "x = ElseTryExcept()\n",
    "\n",
    "x.userCall('CDAC')"
   ]
  },
  {
   "cell_type": "markdown",
   "metadata": {},
   "source": [
    "Q5 & Q6 (Done already!)"
   ]
  },
  {
   "cell_type": "markdown",
   "metadata": {},
   "source": [
    "Q7: Print one message if the try block raises a NameError and another for other errors:\n"
   ]
  },
  {
   "cell_type": "code",
   "execution_count": 137,
   "metadata": {},
   "outputs": [],
   "source": [
    "class PeaceError(Exception):\n",
    "    pass\n",
    "\n",
    "\n",
    "class PeaceTest():\n",
    "    \n",
    "    def __init__(self):\n",
    "        pass\n",
    "    \n",
    "    def userMt(self):\n",
    "        \n",
    "\n",
    "        try:\n",
    "            if (x==x):\n",
    "#                raise NameError\n",
    "                print(k)\n",
    "\n",
    "        except NameError:\n",
    "        \n",
    "            print(\"Name Error!!\")\n",
    "    \n",
    "    \n",
    "        except:\n",
    "            print(\"Other Error\")"
   ]
  },
  {
   "cell_type": "code",
   "execution_count": 138,
   "metadata": {},
   "outputs": [],
   "source": [
    "x = PeaceTest()"
   ]
  },
  {
   "cell_type": "code",
   "execution_count": 139,
   "metadata": {},
   "outputs": [
    {
     "name": "stdout",
     "output_type": "stream",
     "text": [
      "Other Error\n"
     ]
    }
   ],
   "source": [
    "x.userMt()"
   ]
  },
  {
   "cell_type": "markdown",
   "metadata": {},
   "source": [
    "Q8: Try to open and write to a file that is not writable:"
   ]
  },
  {
   "cell_type": "code",
   "execution_count": 158,
   "metadata": {},
   "outputs": [
    {
     "name": "stdout",
     "output_type": "stream",
     "text": [
      "List of directories and files before creation:\n",
      "['22Sept', 'copy.txt', 'LAB', 'Material', 'new_file.txt']\n",
      "\n",
      "The file is in read only mode!\n"
     ]
    }
   ],
   "source": [
    "import os\n",
    "  \n",
    "# path of the current script\n",
    "path = 'D:\\PG-DAI'\n",
    "  \n",
    "# Before creating\n",
    "dir_list = os.listdir(path) \n",
    "print(\"List of directories and files before creation:\")\n",
    "print(dir_list)\n",
    "print()\n",
    "  \n",
    "\n",
    "    \n",
    "with open(r\"D:\\PG-DAI\\new_file.txt\", \"w\") as file:\n",
    "    file.write(\"Your text goes here\")   \n",
    "    \n",
    "\n",
    "try:\n",
    "    with open(\"D:\\PG-DAI\\new_file.txt\", \"r\") as file:\n",
    "        file.write(\"Your text goes here\")   \n",
    "    \n",
    "except:\n",
    "    print(\"The file is in read only mode!\")\n",
    "\n",
    "    \n",
    "# # After creating \n",
    "# dir_list = os.listdir(path)\n",
    "# print(\"List of directories and files after creation:\")\n",
    "# print(dir_list)"
   ]
  },
  {
   "cell_type": "markdown",
   "metadata": {},
   "source": [
    "Q9: Write a python program to raise an error and stop the program if x is lower than 0."
   ]
  },
  {
   "cell_type": "code",
   "execution_count": 175,
   "metadata": {},
   "outputs": [],
   "source": [
    "class minException(Exception):\n",
    "    pass\n",
    "\n",
    "def automation(x):    \n",
    "    \n",
    "    try:\n",
    "\n",
    "        if(x<0):\n",
    "            raise minException(\"Exception, value is in negative!\")\n",
    "    except minException as mE:\n",
    "        print(mE)\n",
    "        \n",
    "    else:\n",
    "        print(\"Value Positive\")"
   ]
  },
  {
   "cell_type": "code",
   "execution_count": 176,
   "metadata": {},
   "outputs": [
    {
     "name": "stdout",
     "output_type": "stream",
     "text": [
      "Enter a number: -2\n",
      "Exception, value is in negative!\n"
     ]
    }
   ],
   "source": [
    "x = int(input(\"Enter a number: \"))\n",
    "automation(x)"
   ]
  },
  {
   "cell_type": "markdown",
   "metadata": {},
   "source": [
    "Q10: Write a python program to raise a TypeError if x is not an integer:\n"
   ]
  },
  {
   "cell_type": "code",
   "execution_count": 189,
   "metadata": {},
   "outputs": [],
   "source": [
    "class typeException(Exception):\n",
    "    pass\n",
    "\n",
    "\n",
    "class check():\n",
    "    def __init__(self, x):\n",
    "        try:\n",
    "            if (type(x)==type('x')):\n",
    "                raise typeException(\"Please enter an integer value!\")\n",
    "\n",
    "        except typeException as tE:\n",
    "            print(tE)\n",
    "            \n",
    "        else:\n",
    "            print(\"Integer value recieved!\")\n",
    "            "
   ]
  },
  {
   "cell_type": "code",
   "execution_count": 191,
   "metadata": {},
   "outputs": [
    {
     "name": "stdout",
     "output_type": "stream",
     "text": [
      "Please enter an integer value!\n"
     ]
    }
   ],
   "source": [
    "c = check('a')\n"
   ]
  }
 ],
 "metadata": {
  "kernelspec": {
   "display_name": "Python 3",
   "language": "python",
   "name": "python3"
  },
  "language_info": {
   "codemirror_mode": {
    "name": "ipython",
    "version": 3
   },
   "file_extension": ".py",
   "mimetype": "text/x-python",
   "name": "python",
   "nbconvert_exporter": "python",
   "pygments_lexer": "ipython3",
   "version": "3.8.5"
  }
 },
 "nbformat": 4,
 "nbformat_minor": 4
}
