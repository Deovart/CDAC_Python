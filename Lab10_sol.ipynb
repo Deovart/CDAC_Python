{
 "cells": [
  {
   "cell_type": "markdown",
   "metadata": {},
   "source": [
    "\n",
    "Q.1. Using for loop, write and run a Python program for this algorithm. Here is an algorithm to print out n! (n factorial) from 0! to 10! :\n",
    "\n",
    "1. Set f = 1\n",
    "2. Set n = 0\n",
    "3. Repeat the following 10 times:\n",
    "a. Output n, \"! = \", f\n",
    "b. Add 1 to n\n",
    "c. Multiply f by n"
   ]
  },
  {
   "cell_type": "code",
   "execution_count": null,
   "metadata": {},
   "outputs": [],
   "source": [
    "def fac(n):\n",
    "        if (n==0 or n==1):\n",
    "            fact = 1\n",
    "\n",
    "        else:\n",
    "            fact= n*fac(n-1)\n",
    "        \n",
    "        print (int(fact))\n",
    "        return (int(fact))\n",
    "\n",
    "n = int(input())\n",
    "fac(n)"
   ]
  },
  {
   "cell_type": "markdown",
   "metadata": {},
   "source": [
    "\n",
    "Q.2. Modify the program above using a while loop so it prints out all of the factorial values that are less\n",
    "than 2 billion. (You should be able to do this without looking at the output of the previous exercise.)\n"
   ]
  },
  {
   "cell_type": "code",
   "execution_count": null,
   "metadata": {},
   "outputs": [],
   "source": [
    "\n",
    "def fac(n):\n",
    "    fact=1\n",
    "    while(fact<1000):\n",
    "        for i in range(1,n):\n",
    "\n",
    "                    if(i==0 or i ==1):\n",
    "                        fact = 1\n",
    "                    else:    \n",
    "                        fact = fact*i\n",
    "                        print(fact)\n",
    "                    if(fact>1000):\n",
    "                        break\n"
   ]
  },
  {
   "cell_type": "code",
   "execution_count": null,
   "metadata": {},
   "outputs": [],
   "source": [
    "fac(31)"
   ]
  },
  {
   "cell_type": "markdown",
   "metadata": {},
   "source": [
    "Q.3. Write a program that asks the user how many days are in a particular month, and what day of the week the month begins on (0 for Monday, 1 for Tuesday, etc), and then prints a calendar for that month."
   ]
  },
  {
   "cell_type": "code",
   "execution_count": null,
   "metadata": {},
   "outputs": [],
   "source": [
    "n = int(input(\"Enter days of Month: \"))\n",
    "d= int(input(\"Begin Day: \"))\n",
    "\n",
    "\n",
    "\n",
    "\n",
    "days = ['Mo','Tu','Wed','Thu','Fri','Sa','Su']\n",
    "\n",
    "\n",
    "for i in days:\n",
    "    print(i, end='\\t')\n",
    "print()\n",
    "count = 0\n",
    "for i in range(d):\n",
    "    print(\"\\t\",end='')\n",
    "for i in range(1,n+1):\n",
    "    count = count +1\n",
    "    print(i,end='\\t')\n",
    "    if((count+d)%7==0):\n",
    "        print()"
   ]
  },
  {
   "cell_type": "code",
   "execution_count": null,
   "metadata": {},
   "outputs": [],
   "source": [
    "#Q. 4. Define a procedure histogram() that takes a list of integers and prints a histogram to the screen.\n",
    "#For example, histogram([4, 9, 7]) should print the following:\n",
    "#****\n",
    "#*********\n",
    "#*******\n"
   ]
  },
  {
   "cell_type": "code",
   "execution_count": null,
   "metadata": {},
   "outputs": [],
   "source": [
    "hist=[4, 9, 7]\n",
    "def histogram(hist):\n",
    "    for i in hist:\n",
    "        print(i*'*')\n",
    "        \n",
    "        \n",
    "histogram(hist)"
   ]
  },
  {
   "cell_type": "markdown",
   "metadata": {},
   "source": [
    "\n",
    "Q. 5. Write a version of a palindrome recognizer that also accepts phrase palindromes such as \"Go hang\n",
    "a salami I'm a lasagna hog.\", \"Was it a rat I saw?\", \"Step on no pets\", \"Sit on a potato pan, Otis\", \"Lisa\n",
    "Bonet ate no basil\", \"Satan, oscillate my metallic sonatas\", \"I roamed under it as a tired nude Maori\",\n",
    "\"Rise to vote sir\", or the exclamation \"Dammit, I'm mad!\". Note that punctuation, capitalization, and\n",
    "spacing are usually ignored."
   ]
  },
  {
   "cell_type": "code",
   "execution_count": null,
   "metadata": {},
   "outputs": [],
   "source": [
    "import re\n",
    "\n",
    "# st= \"Sit on a potato pan, Otis\"\n",
    "st = \"Dammit, I'm mad!\"\n",
    "rex = re.compile('[A-Z]|[a-z]')\n",
    "# re.compile('[a-z]')\n",
    "char_list = rex.findall(st)\n",
    "char_list_ori= char_list.copy()\n",
    "# print(char_list)\n",
    "char_list.reverse()\n",
    "char_list = [x.lower() for x in char_list]\n",
    "char_list_ori= [y.lower() for y in char_list_ori]\n",
    "# char_list.sort()\n",
    "# char_list_ori.sort()\n",
    "\n",
    "\n",
    "if(char_list==char_list_ori):\n",
    "    print(\"Yes\")\n",
    "    \n",
    "else:\n",
    "    print(\"No\")"
   ]
  },
  {
   "cell_type": "markdown",
   "metadata": {},
   "source": [
    "\n",
    "Q. 6. A pangram is a sentence that contains all the letters of the English alphabet at least once, for\n",
    "example: The quick brown fox jumps over the lazy dog. Your task here is to write a function to check a\n",
    "sentence to see if it is a pangram or not."
   ]
  },
  {
   "cell_type": "code",
   "execution_count": null,
   "metadata": {},
   "outputs": [],
   "source": [
    "# pangram = \"The quick brown fox jumps over the lazy dog.\"\n",
    "pangram = \"Glib jocks quiz nymph to vex dwarf.\"\n",
    "# pangram = \"Not a pangram\"\n",
    "import re \n",
    "\n",
    "rex = re.compile('[A-Z]|[a-z]')\n",
    "\n",
    "\n",
    "pan_list = rex.findall(pangram)\n",
    "\n",
    "pan_list_lower = [x.lower() for x in pan_list ]\n",
    "\n",
    "\n",
    "\n",
    "import string \n",
    "list_alpha = string.ascii_lowercase\n",
    "\n",
    "list_alpha = [x for x in list_alpha]\n",
    "\n",
    "\n",
    "\n",
    "for x in list_alpha:\n",
    "    if (x in pan_list_lower):\n",
    "        flag = True\n",
    "    \n",
    "    else:\n",
    "        flag = False\n",
    "        print(\"Not a pangram!\")\n",
    "        break\n",
    "    \n",
    "    \n",
    "if(flag==True):\n",
    "    print(\"Yes a pangram!\")"
   ]
  },
  {
   "cell_type": "markdown",
   "metadata": {},
   "source": [
    "Q. 7. In cryptography, a Caesar cipher is a very simple encryption techniques in which each letter in the\n",
    "plain text is replaced by a letter some fixed number of positions down the alphabet. For example, with a\n",
    "shift of 3, A would be replaced by D, B would become E, and so on. The method is named after Julius\n",
    "Caesar, who used it to communicate with his generals. ROT-13 (\"rotate by 13 places\") is a widely used\n",
    "example of a Caesar cipher where the shift is 13. In Python, the key for ROT-13 may be represented by\n",
    "means of the following dictionary:\n",
    "key = {'a':'n', 'b':'o', 'c':'p', 'd':'q', 'e':'r', 'f':'s', 'g':'t', 'h':'u', 'i':'v', 'j':'w', 'k':'x', 'l':'y', 'm':'z', 'n':'a', 'o':'b',\n",
    "'p':'c', 'q':'d', 'r':'e', 's':'f', 't':'g', 'u':'h', 'v':'i', 'w':'j', 'x':'k', 'y':'l', 'z':'m', 'A':'N', 'B':'O', 'C':'P', 'D':'Q', 'E':'R',\n",
    "'F':'S', 'G':'T', 'H':'U', 'I':'V', 'J':'W', 'K':'X', 'L':'Y', 'M':'Z', 'N':'A', 'O':'B', 'P':'C', 'Q':'D', 'R':'E', 'S':'F', 'T':'G',\n",
    "'U':'H', 'V':'I', 'W':'J', 'X':'K', 'Y':'L', 'Z':'M'}\n",
    "Your task in this exercise is to implement an encoder/decoder of ROT-13. Once you're done, you will be\n",
    "able to read the following secret message:\n",
    "Pnrfne pvcure? V zhpu cersre Pnrfne fnynq!\n",
    "Note that since English has 26 characters, your ROT-13 program will be able to both encode and decode\n",
    "texts written in English.\n"
   ]
  },
  {
   "cell_type": "code",
   "execution_count": null,
   "metadata": {},
   "outputs": [],
   "source": [
    "rot_dict =  {'a':'n', 'b':'o', 'c':'p', 'd':'q', 'e':'r', 'f':'s', 'g':'t', 'h':'u', 'i':'v', 'j':'w', 'k':'x', 'l':'y', 'm':'z', 'n':'a', 'o':'b', 'p':'c', 'q':'d', 'r':'e', 's':'f', 't':'g', 'u':'h', 'v':'i', 'w':'j', 'x':'k', 'y':'l', 'z':'m', 'A':'N', 'B':'O', 'C':'P', 'D':'Q', 'E':'R', 'F':'S', 'G':'T', 'H':'U', 'I':'V', 'J':'W', 'K':'X', 'L':'Y', 'M':'Z', 'N':'A', 'O':'B', 'P':'C', 'Q':'D', 'R':'E', 'S':'F', 'T':'G', 'U':'H', 'V':'I', 'W':'J', 'X':'K', 'Y':'L', 'Z':'M',' ':' '}"
   ]
  },
  {
   "cell_type": "code",
   "execution_count": null,
   "metadata": {},
   "outputs": [],
   "source": [
    "import re\n",
    "\n",
    "stri = \"Pnrfne pvcure? V zhpu cersre Pnrfne fnynq!\"\n",
    "\n",
    "def ROT(rot_dict,stri):\n",
    "    for i in stri:\n",
    "        try:\n",
    "            print(rot_dict[i], end='')\n",
    "        except:\n",
    "            print(i,end=\"\")\n",
    "            \n",
    "            \n",
    "# def encode(rot_dict,stri):\n",
    "#     for i in stri:\n",
    "#         try:\n",
    "#             print(rot_dict[i], end='')\n",
    "#         except:\n",
    "#             print(i,end=\"\")"
   ]
  },
  {
   "cell_type": "code",
   "execution_count": null,
   "metadata": {},
   "outputs": [],
   "source": [
    "stri = \"Caesar cipher? I much prefer Caesar salad!\"\n",
    "ROT(rot_dict,stri)\n"
   ]
  },
  {
   "cell_type": "markdown",
   "metadata": {},
   "source": [
    "Q. 8. Given a dictionary of students and their favourite colours:\n",
    "people={'Arham':'Blue','Lisa':'Yellow',''Vinod:'Purple','Jenny':'Pink'}\n",
    "1. Find out how many students are in the list\n",
    "2. Change Lisa’s favourite colour\n",
    "3. Remove 'Jenny' and her favourite colour\n",
    "4. Sort and print students and their favourite colours alphabetically by name"
   ]
  },
  {
   "cell_type": "code",
   "execution_count": null,
   "metadata": {},
   "outputs": [],
   "source": [
    "#Find out how many students are in the list\n",
    "\n",
    "people={'Arham':'Blue','Lisa':'Yellow','Vinod':'Purple','Jenny':'Pink'}\n",
    "\n",
    "# for i in people.keys():\n",
    "#     print(i)\n",
    "\n",
    "\n",
    "len(people.keys())"
   ]
  },
  {
   "cell_type": "code",
   "execution_count": null,
   "metadata": {},
   "outputs": [],
   "source": [
    "#Change Lisa’s favourite colour\n",
    "\n",
    "people['Lisa']='Red'\n",
    "people"
   ]
  },
  {
   "cell_type": "code",
   "execution_count": null,
   "metadata": {},
   "outputs": [],
   "source": [
    "#Remove 'Jenny' and her favourite colour\n",
    "\n",
    "del people['Jenny']\n",
    "people"
   ]
  },
  {
   "cell_type": "code",
   "execution_count": null,
   "metadata": {},
   "outputs": [],
   "source": [
    "#Sort and print students and their favourite colours alphabetically by name\n",
    "\n",
    "sorted_name = dict(sorted(people.items()))\n",
    "sorted_name"
   ]
  },
  {
   "cell_type": "markdown",
   "metadata": {},
   "source": [
    "\n",
    "Q 9: Write a function translate() that will translate a text into \"rövarspråket\" (Swedish for \"robber's\n",
    "language\"). That is, double every consonant and place an occurrence of \"o\" in between. For example,\n",
    "translate(\"this is fun\") should return the string \"tothohisos isos fofunon\".\n"
   ]
  },
  {
   "cell_type": "code",
   "execution_count": null,
   "metadata": {},
   "outputs": [],
   "source": [
    "vowels = ['a','e','i','o','u']\n",
    "\n",
    "def translate(to_tran):\n",
    "    translated=''\n",
    "    vowels = ['a','e','i','o','u']\n",
    "    for i in to_tran:\n",
    "        if (i not in vowels and i!=' '):\n",
    "            translated = translated + i + \"o\" + i\n",
    "        elif(i == ' '):\n",
    "            translated = translated + ' '\n",
    "        \n",
    "        else:\n",
    "            translated = translated + i\n",
    "        print(translated)\n",
    "        \n",
    "        \n",
    "translate(\"this is fun\")"
   ]
  },
  {
   "cell_type": "markdown",
   "metadata": {},
   "source": [
    "\n",
    "Q. 10. Write a program that contains a function that has one parameter, n, representing an integer\n",
    "greater than 0. The function should return n! (n factorial). Then write a main function that calls this\n",
    "function with the values 1 through 20, one at a time, printing the returned results. This is what your\n",
    "output should look like:\n",
    "1 1\n",
    "2 2\n",
    "3 6\n",
    "4 24\n",
    "5 120\n",
    "6 720\n",
    "7 5040\n",
    "8 40320\n",
    "9 362880\n",
    "10 3628800"
   ]
  },
  {
   "cell_type": "code",
   "execution_count": null,
   "metadata": {},
   "outputs": [],
   "source": [
    "def factorial(n):\n",
    "    fact = 0\n",
    "    \n",
    "    if (n == 1 or n == 0):\n",
    "        fact = 1\n",
    "#         print(fact)\n",
    "        return fact\n",
    "    else:\n",
    "        fact = n * factorial(n-1)\n",
    "#         print(fact)\n",
    "        return fact\n",
    "    \n",
    "    \n",
    "    \n",
    "    \n",
    "    \n",
    "def loopa():\n",
    "    for i in range(1,21):\n",
    "        \n",
    "        n = factorial(i)\n",
    "        print(i,n)\n",
    "        \n",
    "loopa()"
   ]
  },
  {
   "cell_type": "code",
   "execution_count": null,
   "metadata": {},
   "outputs": [],
   "source": [
    "factorial(4)"
   ]
  },
  {
   "cell_type": "markdown",
   "metadata": {},
   "source": [
    "Q. 11. We can define sum from 1 to x (i.e. 1 + 2 + ... + x) recursively as follows for integer x ≥ 1:\n",
    "1, if x = 1\n",
    "x + sum from 1 to x-1 if x > 1\n",
    "Complete the following Python program to compute the sum 1 + 2 + 3 + 4 + 5 + 6 + 7 + 8 + 9 + 10\n",
    "recursively:\n",
    "def main():\n",
    "--compute and print 1 + 2 + ... + 10\n",
    "print sum(10)\n",
    "--def sum(x):\n",
    "\n",
    "you complete this function recursively main()\n"
   ]
  },
  {
   "cell_type": "code",
   "execution_count": null,
   "metadata": {},
   "outputs": [],
   "source": [
    "def main(n):\n",
    "    sum = 0\n",
    "    if (n==0 or n ==1):\n",
    "        sum = sum + n\n",
    "#         return sum\n",
    "    else:\n",
    "        sum =  n + main(n-1)\n",
    "#         return sum\n",
    "    return sum\n",
    "\n",
    "main(10)"
   ]
  },
  {
   "cell_type": "markdown",
   "metadata": {},
   "source": [
    "Q. 12. Define a function overlapping() that takes two lists and returns True if they have at least one\n",
    "member in common, False otherwise.\n"
   ]
  },
  {
   "cell_type": "code",
   "execution_count": null,
   "metadata": {},
   "outputs": [],
   "source": [
    "list1 = [1,2,3,4,5,6,7,8]\n",
    "list2 = [9,12,12,14,16]\n",
    "\n",
    "def overlapping(list1,list2):\n",
    "    for i in list1:\n",
    "        if i in list2:\n",
    "#             print(\"Yes\")\n",
    "            Flag = True\n",
    "            break\n",
    "        else:\n",
    "#             print(\"No\")\n",
    "            Flag = False\n",
    "            continue\n",
    "    print(Flag)\n",
    "            \n",
    "overlapping(list1,list2)"
   ]
  },
  {
   "cell_type": "markdown",
   "metadata": {},
   "source": [
    "Q. 13. Write a function find_longest_word() that takes a list of words and returns the length of the\n",
    "longest one.\n"
   ]
  },
  {
   "cell_type": "code",
   "execution_count": null,
   "metadata": {},
   "outputs": [],
   "source": [
    "len_list = ['a','bbbbb','ccccccc','ddd','ee']\n",
    "\n",
    "\n",
    "def find_longest_word(len_list):\n",
    "    count=0\n",
    "    for i in range(len(len_list)):\n",
    "        if len(len_list[i])>count:\n",
    "            count = len(len_list[i])\n",
    "            list_it = len_list[i]\n",
    "        else:\n",
    "            count = count\n",
    "    return count, list_it\n",
    "    "
   ]
  },
  {
   "cell_type": "code",
   "execution_count": null,
   "metadata": {},
   "outputs": [],
   "source": [
    "find_longest_word(len_list)\n"
   ]
  },
  {
   "cell_type": "markdown",
   "metadata": {},
   "source": [
    "Q. 14. Write a function filter_long_words() that takes a list of words and an integer n and returns the list\n",
    "of words that are longer than n\n"
   ]
  },
  {
   "cell_type": "code",
   "execution_count": null,
   "metadata": {},
   "outputs": [],
   "source": [
    "list_of_words = ['Alpha','Fantastic','Lamborghini','Tesla','Bitcoin','BlockChain','Put','Hold']\n",
    "\n",
    "def filter_long_words(list_of_words,n):\n",
    "        new_bag_words = []\n",
    "        for i in list_of_words:\n",
    "            if len(i) > n:\n",
    "                new_bag_words.append(i)\n",
    "        return new_bag_words"
   ]
  },
  {
   "cell_type": "code",
   "execution_count": null,
   "metadata": {},
   "outputs": [],
   "source": [
    "filter_long_words(list_of_words,9)"
   ]
  },
  {
   "cell_type": "markdown",
   "metadata": {},
   "source": [
    "Q. 15. Define a simple \"spelling correction\" function correct() that takes a string and sees to it that\n",
    "1) two or more occurrences of the space character is compressed into one, and\n",
    "2) inserts an extra space after a period if the period is directly followed by a letter.\n",
    "e.g. correct(\"This is very funny and cool.Indeed!\") should return \"This is very funny and cool.\n",
    "Indeed!\"\n"
   ]
  },
  {
   "cell_type": "code",
   "execution_count": null,
   "metadata": {},
   "outputs": [],
   "source": [
    "import re\n",
    "inputString = \" bh          b bb    .Hjh        .a        hjkh\"\n",
    "def correct():\n",
    "#         rex = re.sub('\\ +',' ',inputString)\n",
    "        rex = re.sub('\\.([A-Z]||[a-z])','x',inputString)\n",
    "#         print(rex.findall(\"hell o jdu dasnd \"))\n",
    "        print(rex)\n",
    "        \n",
    "        \n",
    "correct()"
   ]
  },
  {
   "cell_type": "markdown",
   "metadata": {},
   "source": [
    "Q. 16. In English, present participle is formed by adding suffix -ing to infinite form: go -> going. A simple\n",
    "set of heuristic rules can be given as follows:\n",
    " If the verb ends in e, drop the e and add ing (if not exception: be, see, flee, knee, etc.)\n",
    " If the verb ends in ie, change ie to y and add ing\n",
    " For words consisting of consonant-vowel-consonant, double the final letter before adding ing\n",
    " By default just add ing\n",
    "Your task in this exercise is to define a function make_ing_form() which given a verb in infinitive form\n",
    "returns its present participle form. Test your function with words such as lie, see, move and hug.\n",
    "However, you must not expect such simple rules to work for all cases.\n"
   ]
  },
  {
   "cell_type": "code",
   "execution_count": null,
   "metadata": {},
   "outputs": [],
   "source": [
    "import string\n",
    "\n",
    "def make_ing_form(usr_str):\n",
    "    usr_str = usr_str.lower()\n",
    "    alphabets = string.ascii_lowercase\n",
    "    vowels = ['a','e','i','o','u']\n",
    "    consonents = [x for x in alphabets if x not in vowels]\n",
    "    \n",
    "    exception = ['be','see','flee','knee']\n",
    "    \n",
    "    if usr_str.endswith('e'):\n",
    "        if usr_str in exception:\n",
    "            usr_str = usr_str + 'ing'\n",
    "            return usr_str\n",
    "        else:\n",
    "            usr_str = usr_str[:-1]\n",
    "            usr_str= usr_str + 'ing'\n",
    "            return usr_str\n",
    "        \n",
    "    elif usr_str.endswith('ie'):\n",
    "        usr_str = usr_str[:-2]\n",
    "        return usr_str + 'ying'\n",
    "\n",
    "    elif usr_str[-1] in consonents and usr_str[-2] in vowels and usr_str[-3] in consonents:\n",
    "        usr_str += usr_str[-1]\n",
    "        return usr_str + 'ing'\n",
    "    else:\n",
    "        return usr_str + 'ing'"
   ]
  },
  {
   "cell_type": "code",
   "execution_count": null,
   "metadata": {},
   "outputs": [],
   "source": [
    "make_ing_form('thxax')"
   ]
  },
  {
   "cell_type": "markdown",
   "metadata": {},
   "source": [
    "Q17: Write a Python program to remove leading zeros from an IP address.\n",
    "For example:\n",
    "IP Address 216.08.094.196 should be represented as 216.8.94.196"
   ]
  },
  {
   "cell_type": "code",
   "execution_count": null,
   "metadata": {},
   "outputs": [],
   "source": [
    "import re\n",
    "user_IP = (input('Enter IP: '))\n",
    "rex = re.sub('\\.[0]+','.',user_IP)\n",
    "\n",
    "rex"
   ]
  },
  {
   "cell_type": "code",
   "execution_count": null,
   "metadata": {},
   "outputs": [],
   "source": []
  }
 ],
 "metadata": {
  "kernelspec": {
   "display_name": "Python 3",
   "language": "python",
   "name": "python3"
  },
  "language_info": {
   "codemirror_mode": {
    "name": "ipython",
    "version": 3
   },
   "file_extension": ".py",
   "mimetype": "text/x-python",
   "name": "python",
   "nbconvert_exporter": "python",
   "pygments_lexer": "ipython3",
   "version": "3.8.5"
  }
 },
 "nbformat": 4,
 "nbformat_minor": 4
}
