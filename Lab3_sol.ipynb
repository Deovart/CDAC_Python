{
 "cells": [
  {
   "cell_type": "markdown",
   "metadata": {},
   "source": [
    "Q1: Write a Python program to sum all the items in a list."
   ]
  },
  {
   "cell_type": "code",
   "execution_count": 1,
   "metadata": {},
   "outputs": [],
   "source": [
    "sum_list = [1,2,3,4,5]\n",
    "\n",
    "sum_total = sum(sum_list)\n",
    "sum_total"
   ]
  },
  {
   "cell_type": "markdown",
   "metadata": {},
   "source": [
    "\n",
    "Q2: Write a Python program to get the largest number from a list.\n"
   ]
  },
  {
   "cell_type": "code",
   "execution_count": 4,
   "metadata": {},
   "outputs": [
    {
     "data": {
      "text/plain": [
       "5"
      ]
     },
     "execution_count": 4,
     "metadata": {},
     "output_type": "execute_result"
    }
   ],
   "source": [
    "sum_list = [1,2,3,4,5]\n",
    "\n",
    "max(sum_list)"
   ]
  },
  {
   "cell_type": "markdown",
   "metadata": {},
   "source": [
    "Q3: Write a Python program to get the smallest number from a list."
   ]
  },
  {
   "cell_type": "code",
   "execution_count": 5,
   "metadata": {},
   "outputs": [
    {
     "data": {
      "text/plain": [
       "1"
      ]
     },
     "execution_count": 5,
     "metadata": {},
     "output_type": "execute_result"
    }
   ],
   "source": [
    "sum_list = [1,2,3,4,5]\n",
    "\n",
    "min(sum_list)"
   ]
  },
  {
   "cell_type": "markdown",
   "metadata": {},
   "source": [
    "\n",
    "Q4: Write a Python program to display the first and last colors from the following list.\n",
    "color_list = [\"Red\",\"Green\",\"White\" ,\"Black\"]"
   ]
  },
  {
   "cell_type": "code",
   "execution_count": 8,
   "metadata": {},
   "outputs": [
    {
     "data": {
      "text/plain": [
       "'Red'"
      ]
     },
     "execution_count": 8,
     "metadata": {},
     "output_type": "execute_result"
    }
   ],
   "source": [
    "color_list = [\"Red\",\"Green\",\"White\" ,\"Black\"]\n",
    "\n",
    "#First\n",
    "color_list[0]"
   ]
  },
  {
   "cell_type": "code",
   "execution_count": 9,
   "metadata": {},
   "outputs": [
    {
     "data": {
      "text/plain": [
       "'Black'"
      ]
     },
     "execution_count": 9,
     "metadata": {},
     "output_type": "execute_result"
    }
   ],
   "source": [
    "#Last\n",
    "\n",
    "color_list[-1]\n"
   ]
  },
  {
   "cell_type": "markdown",
   "metadata": {},
   "source": [
    "Q5: Write a Python program to add 'ing' at the end of a given string (length should be at least 3). If the given string is already ends with 'ing' then add 'ly' instead.\n"
   ]
  },
  {
   "cell_type": "code",
   "execution_count": 41,
   "metadata": {},
   "outputs": [
    {
     "name": "stdout",
     "output_type": "stream",
     "text": [
      "Enter a string: ing\n",
      "ingly\n"
     ]
    }
   ],
   "source": [
    "py_string = input(\"Enter a string: \" )\n",
    "\n",
    "if(py_string[-3:]=='ing'):\n",
    "    changed_str=py_string+'ly'\n",
    "else:\n",
    "    changed_str = py_string +'ing'\n",
    "    \n",
    "print(changed_str)\n"
   ]
  },
  {
   "cell_type": "markdown",
   "metadata": {},
   "source": [
    "Q6: The marks obtained by a student in 5 different Subjects are input through a keyboard. The Student gets a division as per the following rules.\n",
    "\n",
    "Percentage above or equal to 60 – First Division\n",
    "Percentage between 50 and 59 – Second Division\n",
    "Percentage between 40 and 49 – Third Division\n",
    "Percentage less than 40 – Fail\n",
    "Write a python program to Display the result based on the above Criteria."
   ]
  },
  {
   "cell_type": "code",
   "execution_count": null,
   "metadata": {},
   "outputs": [],
   "source": [
    "first_sub = int(input(\"Enter marks of first subject: \"))\n",
    "second_sub = int(input(\"Enter marks of second subject: \"))\n",
    "third_sub = int(input(\"Enter marks of third subject: \"))\n",
    "forth_sub = int(input(\"Enter marks of fourth subject: \"))\n",
    "fifth_sub = int(input(\"Enter marks of fifth subject: \"))\n",
    "\n",
    "total_sub_percent = (first_sub+second_sub+third_sub+forth_sub+fifth_sub)/5\n",
    "\n",
    "print(\"The percentage scored is : \", total_sub_percent)"
   ]
  },
  {
   "cell_type": "markdown",
   "metadata": {},
   "source": [
    "Q7: write a Python program to find the largest number among the three input numbers "
   ]
  },
  {
   "cell_type": "code",
   "execution_count": 3,
   "metadata": {},
   "outputs": [
    {
     "name": "stdout",
     "output_type": "stream",
     "text": [
      "Enter first number: 4\n",
      "Enter second number: 5\n",
      "Enter third number: 7\n",
      "The largest number is:  7\n"
     ]
    }
   ],
   "source": [
    "input_one = int(input(\"Enter first number: \"))\n",
    "input_second = int(input(\"Enter second number: \"))\n",
    "input_third = int(input(\"Enter third number: \"))\n",
    "\n",
    "largest= max(input_one,input_second,input_third)\n",
    "print(\"The largest number is: \",largest)"
   ]
  },
  {
   "cell_type": "markdown",
   "metadata": {},
   "source": [
    "Q8: Write a Python program to check if the input year is a leap year or not.\n"
   ]
  },
  {
   "cell_type": "code",
   "execution_count": 4,
   "metadata": {},
   "outputs": [
    {
     "name": "stdout",
     "output_type": "stream",
     "text": [
      "Enter the year: 2020\n",
      "This is a leap year\n"
     ]
    }
   ],
   "source": [
    "year = int(input(\"Enter the year: \"))\n",
    "\n",
    "if(year%4==0):\n",
    "    print(\"This is a leap year\")\n",
    "else:\n",
    "    print(\"This is not a leap year\")"
   ]
  },
  {
   "cell_type": "markdown",
   "metadata": {},
   "source": [
    "Q9: write a Program to check if a string is palindrome or not\n"
   ]
  },
  {
   "cell_type": "code",
   "execution_count": 16,
   "metadata": {},
   "outputs": [
    {
     "name": "stdout",
     "output_type": "stream",
     "text": [
      "Enter the string: asad\n",
      "It is a not palindrome!\n"
     ]
    }
   ],
   "source": [
    "palindrome = input(\"Enter the string: \")\n",
    "rev_pali = palindrome[-1::-1]\n",
    "if(rev_pali==palindrome):\n",
    "    print(\"It is a palindrome!\")\n",
    "else:\n",
    "    print(\"It is a not palindrome!\")"
   ]
  },
  {
   "cell_type": "markdown",
   "metadata": {},
   "source": [
    "\n",
    "Q10: write a Program to sort alphabetically the words from a string provided by the user. [You can use split() method to split string into a list of words. ]"
   ]
  },
  {
   "cell_type": "code",
   "execution_count": 18,
   "metadata": {},
   "outputs": [
    {
     "name": "stdout",
     "output_type": "stream",
     "text": [
      "Enter the string: asd as a a az z \n",
      "['', 'a', 'a', 'as', 'asd', 'az', 'z']\n"
     ]
    }
   ],
   "source": [
    "alpha_str= input(\"Enter the string: \")\n",
    "splitted = alpha_str.split(\" \")\n",
    "splitted.sort()\n",
    "\n",
    "print(splitted)"
   ]
  },
  {
   "cell_type": "markdown",
   "metadata": {},
   "source": [
    "Q11: Given a nested list. Write a python program to extend it with adding sub list [\"h\", \"i\", \"j\"] in a such a way that it will look like the following list Given List: list1 = [\"a\", \"b\", [\"c\", [\"d\", \"e\", [\"f\", \"g\"], \"k\"], \"l\"], \"m\", \"n\"] Sub List to be added = [\"h\", \"i\", \"j\"] Expected output: ['a', 'b', ['c', ['d', 'e', ['f', 'g', 'h', 'i', 'j'], 'k'], 'l'], 'm', 'n']\n",
    "\n",
    "\n"
   ]
  },
  {
   "cell_type": "code",
   "execution_count": 25,
   "metadata": {},
   "outputs": [
    {
     "name": "stdout",
     "output_type": "stream",
     "text": [
      "['a', 'b', ['c', ['d', 'e', ['f', 'g', 'h', 'i', 'j'], 'k'], 'l'], 'm', 'n']\n"
     ]
    }
   ],
   "source": [
    "list_main = [\"a\", \"b\", [\"c\", [\"d\", \"e\", [\"f\", \"g\"], \"k\"], \"l\"], \"m\", \"n\"]\n",
    "list_alter= [\"h\", \"i\", \"j\"] \n",
    "\n",
    "\n",
    "list_main[2][1][2].extend(list_alter)\n",
    "\n",
    "print(list_main)"
   ]
  },
  {
   "cell_type": "markdown",
   "metadata": {},
   "source": [
    "Q12: Write a python program for Given a Python list, to find value 20 in the list, and if it is present, replace it with 200. Only update the first occurrence of a value list1 = [5, 10, 15, 20, 25, 50, 20] Expected output: list1 = [5, 10, 15, 200, 25, 50, 20]"
   ]
  },
  {
   "cell_type": "code",
   "execution_count": 31,
   "metadata": {},
   "outputs": [
    {
     "data": {
      "text/plain": [
       "[5, 10, 15, 200, 25, 50, 20]"
      ]
     },
     "execution_count": 31,
     "metadata": {},
     "output_type": "execute_result"
    }
   ],
   "source": [
    "value_list = [5, 10, 15, 20, 25, 50, 20] \n",
    "\n",
    "value_list[value_list.index(20)] = 200\n",
    "\n",
    "value_list"
   ]
  }
 ],
 "metadata": {
  "kernelspec": {
   "display_name": "Python 3",
   "language": "python",
   "name": "python3"
  },
  "language_info": {
   "codemirror_mode": {
    "name": "ipython",
    "version": 3
   },
   "file_extension": ".py",
   "mimetype": "text/x-python",
   "name": "python",
   "nbconvert_exporter": "python",
   "pygments_lexer": "ipython3",
   "version": "3.8.5"
  }
 },
 "nbformat": 4,
 "nbformat_minor": 4
}
