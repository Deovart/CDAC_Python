{
 "cells": [
  {
   "cell_type": "markdown",
   "metadata": {},
   "source": [
    "Lab Exercise 6\n",
    "Exercise 1: Subtract a week ( 7 days)  from a given date in Python\n",
    "Exercise 2: Add week ( 7 days) and 12 hours to a given date\n",
    "Given:\n",
    "# 2020-03-22 10:00:00\n",
    "given_date = datetime(2020, 3, 22, 10, 0, 0)\n",
    "Expected output:\n",
    "2020-03-29 22:00:00\n",
    "\n",
    "Exercise 3: Print ten dates, each two a week apart, starting from today, in the form YYYY-MM-DD.\n",
    "\n",
    "Exercise 4: Calculate number of days between two given dates\n",
    "Given:\n",
    "# 2020-02-25\n",
    "date_1 = datetime(2020, 2, 25)\n",
    "# 2020-09-17\n",
    "date_2 = datetime(2020, 9, 17)\n",
    "Expected output:\n",
    "205 days\n",
    "Exercise 5:  Write a Python script to display the \n",
    "a) Current date and time\n",
    "b) Current year in full\n",
    "c) Month of year full name\n",
    "d) Weekday of the week\n",
    "e) Day of year\n",
    "f) Day of the month\n",
    "g) Day of week in full name\n",
    "Exercise6: Python program to convert a string to datetime:\n",
    "          'Jul 1 2016  2:43AM' into 2016-07-01 02:43:00\n",
    "Exercise 7: Program to select all the Sundays of a specified year.\n"
   ]
  },
  {
   "cell_type": "code",
   "execution_count": 60,
   "metadata": {},
   "outputs": [
    {
     "data": {
      "text/plain": [
       "datetime.datetime(2021, 10, 16, 0, 22, 42, 161115)"
      ]
     },
     "execution_count": 60,
     "metadata": {},
     "output_type": "execute_result"
    }
   ],
   "source": [
    "import datetime\n",
    "\n",
    "datetime.datetime.now()"
   ]
  },
  {
   "cell_type": "markdown",
   "metadata": {},
   "source": [
    "Exercise 1: Subtract a week ( 7 days)  from a given date in Python\n"
   ]
  },
  {
   "cell_type": "code",
   "execution_count": 65,
   "metadata": {},
   "outputs": [],
   "source": [
    "# date = datetime.date( 2018 , 5 , 12 )\n",
    "# # date.isoformat()\n",
    "\n",
    "# # date.strftime(\"%d-%B-%m\")"
   ]
  },
  {
   "cell_type": "code",
   "execution_count": 64,
   "metadata": {},
   "outputs": [
    {
     "data": {
      "text/plain": [
       "'2021-10-09T00:25:14.904705'"
      ]
     },
     "execution_count": 64,
     "metadata": {},
     "output_type": "execute_result"
    }
   ],
   "source": [
    "from datetime import datetime, timedelta\n",
    "days_to_subtract = 7\n",
    "d = datetime.today() - timedelta(days=days_to_subtract)\n",
    "d.isoformat()"
   ]
  },
  {
   "cell_type": "markdown",
   "metadata": {},
   "source": [
    "Exercise 2: Add week ( 7 days) and 12 hours to a given date\n",
    "Given:\n",
    "# 2020-03-22 10:00:00\n",
    "given_date = datetime(2020, 3, 22, 10, 0, 0)\n",
    "Expected output:\n",
    "2020-03-29 22:00:00\n"
   ]
  },
  {
   "cell_type": "code",
   "execution_count": 72,
   "metadata": {},
   "outputs": [],
   "source": [
    "given_date = datetime(2020, 3, 22, 10, 0, 0)\n",
    "\n",
    "date_plus_hours = given_date + timedelta(hours=12)\n",
    "\n",
    "fina_date = date_plus_hours + timedelta(days=7)"
   ]
  },
  {
   "cell_type": "code",
   "execution_count": 76,
   "metadata": {},
   "outputs": [
    {
     "data": {
      "text/plain": [
       "'2020-03-29T22:00:00'"
      ]
     },
     "execution_count": 76,
     "metadata": {},
     "output_type": "execute_result"
    }
   ],
   "source": [
    "fina_date.isoformat()"
   ]
  },
  {
   "cell_type": "markdown",
   "metadata": {},
   "source": [
    "Exercise 3: Print ten dates, each two a week apart, starting from today, in the form YYYY-MM-DD."
   ]
  },
  {
   "cell_type": "code",
   "execution_count": 79,
   "metadata": {},
   "outputs": [
    {
     "name": "stdout",
     "output_type": "stream",
     "text": [
      "2021-10-30 00:45:42.695049\n",
      "2021-11-06 00:45:42.695049\n",
      "2021-11-13 00:45:42.695049\n",
      "2021-11-20 00:45:42.695049\n",
      "2021-11-27 00:45:42.695049\n",
      "2021-12-04 00:45:42.695049\n",
      "2021-12-11 00:45:42.695049\n",
      "2021-12-18 00:45:42.695049\n",
      "2021-12-25 00:45:42.695049\n",
      "2022-01-01 00:45:42.695049\n"
     ]
    }
   ],
   "source": [
    "date_now = datetime.now()\n",
    "dee = 14\n",
    "for i in range (10):\n",
    "        print(date_now+timedelta(dee))\n",
    "        dee = dee +7"
   ]
  },
  {
   "cell_type": "markdown",
   "metadata": {},
   "source": [
    "Exercise 4: Calculate number of days between two given dates\n",
    "Given:\n",
    "# 2020-02-25\n",
    "date_1 = datetime(2020, 2, 25)\n",
    "# 2020-09-17\n",
    "date_2 = datetime(2020, 9, 17)\n",
    "Expected output:\n",
    "205 days\n"
   ]
  },
  {
   "cell_type": "code",
   "execution_count": 83,
   "metadata": {},
   "outputs": [
    {
     "name": "stdout",
     "output_type": "stream",
     "text": [
      "205\n"
     ]
    }
   ],
   "source": [
    "# 2020-02-25\n",
    "date_1 = datetime(2020, 2, 25)\n",
    "# 2020-09-17\n",
    "date_2 = datetime(2020, 9, 17)\n",
    "\n",
    "delta = date_2 - date_1\n",
    "\n",
    "print(delta.days)"
   ]
  },
  {
   "cell_type": "markdown",
   "metadata": {},
   "source": [
    "\n",
    "Exercise 5:  Write a Python script to display the \n",
    "a) Current date and time\n",
    "b) Current year in full\n",
    "c) Month of year full name\n",
    "d) Weekday of the week\n",
    "e) Day of year\n",
    "f) Day of the month\n",
    "g) Day of week in full name\n"
   ]
  },
  {
   "cell_type": "code",
   "execution_count": 105,
   "metadata": {},
   "outputs": [
    {
     "data": {
      "text/plain": [
       "'2021-10-16T00:54:25.307572'"
      ]
     },
     "execution_count": 105,
     "metadata": {},
     "output_type": "execute_result"
    }
   ],
   "source": [
    "#a\n",
    "date = datetime.now()\n",
    "date.isoformat()"
   ]
  },
  {
   "cell_type": "code",
   "execution_count": 106,
   "metadata": {},
   "outputs": [
    {
     "data": {
      "text/plain": [
       "'2021'"
      ]
     },
     "execution_count": 106,
     "metadata": {},
     "output_type": "execute_result"
    }
   ],
   "source": [
    "#b\n",
    "date.strftime(\"%Y\")"
   ]
  },
  {
   "cell_type": "code",
   "execution_count": 108,
   "metadata": {},
   "outputs": [
    {
     "data": {
      "text/plain": [
       "'October'"
      ]
     },
     "execution_count": 108,
     "metadata": {},
     "output_type": "execute_result"
    }
   ],
   "source": [
    "#c\n",
    "date.strftime(\"%B\")"
   ]
  },
  {
   "cell_type": "code",
   "execution_count": 115,
   "metadata": {},
   "outputs": [
    {
     "data": {
      "text/plain": [
       "'Saturday'"
      ]
     },
     "execution_count": 115,
     "metadata": {},
     "output_type": "execute_result"
    }
   ],
   "source": [
    "#d\n",
    "date.strftime(\"%A\")"
   ]
  },
  {
   "cell_type": "code",
   "execution_count": 116,
   "metadata": {},
   "outputs": [
    {
     "data": {
      "text/plain": [
       "'6'"
      ]
     },
     "execution_count": 116,
     "metadata": {},
     "output_type": "execute_result"
    }
   ],
   "source": [
    "#g\n",
    "date.strftime(\"%w\")"
   ]
  },
  {
   "cell_type": "markdown",
   "metadata": {},
   "source": [
    "\n",
    "Exercise6: Python program to convert a string to datetime:\n",
    "          'Jul 1 2016  2:43AM' into 2016-07-01 02:43:00"
   ]
  },
  {
   "cell_type": "code",
   "execution_count": 119,
   "metadata": {},
   "outputs": [
    {
     "data": {
      "text/plain": [
       "'2016-07-01T02:43:00'"
      ]
     },
     "execution_count": 119,
     "metadata": {},
     "output_type": "execute_result"
    }
   ],
   "source": [
    "datetime_object = datetime.strptime('Jul 1 2016 2:43AM', '%b %d %Y %I:%M%p')\n",
    "datetime_object.isoformat()"
   ]
  },
  {
   "cell_type": "code",
   "execution_count": 131,
   "metadata": {},
   "outputs": [
    {
     "name": "stdout",
     "output_type": "stream",
     "text": [
      "2020-01-12 00:00:00\n",
      "2020-01-19 00:00:00\n",
      "2020-01-26 00:00:00\n",
      "2020-02-02 00:00:00\n",
      "2020-02-09 00:00:00\n",
      "2020-02-16 00:00:00\n",
      "2020-02-23 00:00:00\n",
      "2020-03-01 00:00:00\n",
      "2020-03-08 00:00:00\n",
      "2020-03-15 00:00:00\n",
      "2020-03-22 00:00:00\n",
      "2020-03-29 00:00:00\n",
      "2020-04-05 00:00:00\n",
      "2020-04-12 00:00:00\n",
      "2020-04-19 00:00:00\n",
      "2020-04-26 00:00:00\n",
      "2020-05-03 00:00:00\n",
      "2020-05-10 00:00:00\n",
      "2020-05-17 00:00:00\n",
      "2020-05-24 00:00:00\n",
      "2020-05-31 00:00:00\n",
      "2020-06-07 00:00:00\n",
      "2020-06-14 00:00:00\n",
      "2020-06-21 00:00:00\n",
      "2020-06-28 00:00:00\n",
      "2020-07-05 00:00:00\n",
      "2020-07-12 00:00:00\n",
      "2020-07-19 00:00:00\n",
      "2020-07-26 00:00:00\n",
      "2020-08-02 00:00:00\n",
      "2020-08-09 00:00:00\n",
      "2020-08-16 00:00:00\n",
      "2020-08-23 00:00:00\n",
      "2020-08-30 00:00:00\n",
      "2020-09-06 00:00:00\n",
      "2020-09-13 00:00:00\n",
      "2020-09-20 00:00:00\n",
      "2020-09-27 00:00:00\n",
      "2020-10-04 00:00:00\n",
      "2020-10-11 00:00:00\n",
      "2020-10-18 00:00:00\n",
      "2020-10-25 00:00:00\n",
      "2020-11-01 00:00:00\n",
      "2020-11-08 00:00:00\n",
      "2020-11-15 00:00:00\n",
      "2020-11-22 00:00:00\n",
      "2020-11-29 00:00:00\n",
      "2020-12-06 00:00:00\n",
      "2020-12-13 00:00:00\n",
      "2020-12-20 00:00:00\n",
      "2020-12-27 00:00:00\n"
     ]
    }
   ],
   "source": [
    "year = 2020\n",
    "date = datetime(year,1,1)\n",
    "date\n",
    "\n",
    "date += timedelta(days = 6 - date.weekday())  # First Sunday\n",
    "\n",
    "while date.year == 2020:\n",
    "    date = date +timedelta(days=7)\n",
    "    if date.year ==2020:\n",
    "            print(date)\n",
    "    "
   ]
  },
  {
   "cell_type": "code",
   "execution_count": null,
   "metadata": {},
   "outputs": [],
   "source": []
  },
  {
   "cell_type": "code",
   "execution_count": null,
   "metadata": {},
   "outputs": [],
   "source": []
  }
 ],
 "metadata": {
  "kernelspec": {
   "display_name": "Python 3",
   "language": "python",
   "name": "python3"
  },
  "language_info": {
   "codemirror_mode": {
    "name": "ipython",
    "version": 3
   },
   "file_extension": ".py",
   "mimetype": "text/x-python",
   "name": "python",
   "nbconvert_exporter": "python",
   "pygments_lexer": "ipython3",
   "version": "3.8.5"
  }
 },
 "nbformat": 4,
 "nbformat_minor": 4
}
