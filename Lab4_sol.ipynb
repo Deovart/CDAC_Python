{
 "cells": [
  {
   "cell_type": "markdown",
   "metadata": {},
   "source": [
    "Q1: Write a python program to add all the odd numbers from 0 to 20."
   ]
  },
  {
   "cell_type": "code",
   "execution_count": 1,
   "metadata": {
    "scrolled": true
   },
   "outputs": [
    {
     "name": "stdout",
     "output_type": "stream",
     "text": [
      "2\n",
      "4\n",
      "6\n",
      "8\n",
      "10\n",
      "12\n",
      "14\n",
      "16\n",
      "18\n",
      "20\n"
     ]
    }
   ],
   "source": [
    "for i in range (1,21):\n",
    "    if i%2==0:\n",
    "        print(i)"
   ]
  },
  {
   "cell_type": "markdown",
   "metadata": {},
   "source": [
    "Q 2: Write a python program to find the sum of all integers greater than 100 and less than 200."
   ]
  },
  {
   "cell_type": "code",
   "execution_count": 29,
   "metadata": {},
   "outputs": [
    {
     "name": "stdout",
     "output_type": "stream",
     "text": [
      "14850\n"
     ]
    }
   ],
   "source": [
    "counter = 101\n",
    "summ = 0\n",
    "while (counter < 200):\n",
    "    summ=summ+counter\n",
    "    counter = counter+1\n",
    "#     print(counterter)\n",
    "print(summ)"
   ]
  },
  {
   "cell_type": "markdown",
   "metadata": {},
   "source": [
    "Q3: Write a program to display the sum of square of the first ten even natural numbers\n"
   ]
  },
  {
   "cell_type": "code",
   "execution_count": 3,
   "metadata": {},
   "outputs": [],
   "source": [
    "# x=1\n",
    "# total =0\n",
    "# for i in range(1,50):\n",
    "#     while (i%2==0):\n",
    "#         if(x<12):\n",
    "#             print(i)\n",
    "#             total = total + i*i\n",
    "#             x=x+1\n",
    "#             break\n",
    "#     continue\n",
    "\n",
    "\n"
   ]
  },
  {
   "cell_type": "code",
   "execution_count": 7,
   "metadata": {},
   "outputs": [
    {
     "name": "stdout",
     "output_type": "stream",
     "text": [
      "2024\n"
     ]
    }
   ],
   "source": [
    "total=0\n",
    "counter=0\n",
    "for i in range(1,50):\n",
    "    if (i%2==0):\n",
    "        if(counter<11):\n",
    "            total = total + (i*i)\n",
    "            counter =counter +1\n",
    "\n",
    "print(total)\n",
    "            "
   ]
  },
  {
   "cell_type": "markdown",
   "metadata": {},
   "source": [
    "Q4: Write a python program to display ascii characters from 65 to 90"
   ]
  },
  {
   "cell_type": "code",
   "execution_count": 21,
   "metadata": {},
   "outputs": [
    {
     "name": "stdout",
     "output_type": "stream",
     "text": [
      "65 = A\n",
      "66 = B\n",
      "67 = C\n",
      "68 = D\n",
      "69 = E\n",
      "70 = F\n",
      "71 = G\n",
      "72 = H\n",
      "73 = I\n",
      "74 = J\n",
      "75 = K\n",
      "76 = L\n",
      "77 = M\n",
      "78 = N\n",
      "79 = O\n",
      "80 = P\n",
      "81 = Q\n",
      "82 = R\n",
      "83 = S\n",
      "84 = T\n",
      "85 = U\n",
      "86 = V\n",
      "87 = W\n",
      "88 = X\n",
      "89 = Y\n",
      "90 = Z\n"
     ]
    }
   ],
   "source": [
    "for i in range(65,91):\n",
    "    \n",
    "    print(i,\"=\",chr(i))"
   ]
  },
  {
   "cell_type": "markdown",
   "metadata": {},
   "source": [
    "\n",
    "Q5: Display ascii characters from 48 to 57.\n"
   ]
  },
  {
   "cell_type": "code",
   "execution_count": 22,
   "metadata": {},
   "outputs": [
    {
     "name": "stdout",
     "output_type": "stream",
     "text": [
      "48 = 0\n",
      "49 = 1\n",
      "50 = 2\n",
      "51 = 3\n",
      "52 = 4\n",
      "53 = 5\n",
      "54 = 6\n",
      "55 = 7\n",
      "56 = 8\n",
      "57 = 9\n"
     ]
    }
   ],
   "source": [
    "for i in range(48,58):\n",
    "    \n",
    "    print(i,\"=\",chr(i))"
   ]
  },
  {
   "cell_type": "markdown",
   "metadata": {},
   "source": [
    "Q6:Display the following output with the help of Ascii character."
   ]
  },
  {
   "cell_type": "code",
   "execution_count": 23,
   "metadata": {},
   "outputs": [
    {
     "name": "stdout",
     "output_type": "stream",
     "text": [
      "97 = a\n",
      "98 = b\n",
      "99 = c\n",
      "100 = d\n",
      "101 = e\n",
      "102 = f\n",
      "103 = g\n",
      "104 = h\n",
      "105 = i\n",
      "106 = j\n",
      "107 = k\n",
      "108 = l\n",
      "109 = m\n",
      "110 = n\n",
      "111 = o\n",
      "112 = p\n",
      "113 = q\n",
      "114 = r\n",
      "115 = s\n",
      "116 = t\n",
      "117 = u\n",
      "118 = v\n",
      "119 = w\n",
      "120 = x\n",
      "121 = y\n",
      "122 = z\n"
     ]
    }
   ],
   "source": [
    "for i in range(97,123):\n",
    "    \n",
    "    print(i,\"=\",chr(i))"
   ]
  },
  {
   "cell_type": "markdown",
   "metadata": {},
   "source": [
    "Q7: Write a python program for given a Python list you should be able to display Python list in the following order\n",
    "\n",
    "L1 = [100, 200, 300, 400, 500]\n",
    "\n"
   ]
  },
  {
   "cell_type": "code",
   "execution_count": 27,
   "metadata": {},
   "outputs": [
    {
     "name": "stdout",
     "output_type": "stream",
     "text": [
      "[500, 400, 300, 200, 100]\n"
     ]
    }
   ],
   "source": [
    "\n",
    "L1 = [100, 200, 300, 400, 500]\n",
    "\n",
    "L1.sort(reverse=True)\n",
    "\n",
    "print(L1)"
   ]
  },
  {
   "cell_type": "markdown",
   "metadata": {},
   "source": [
    "Q8: Write a Python program to concatenate following dictionaries to create a new one.\n",
    "Sample Dictionary : \n",
    "dic1={1:10, 2:20} \n",
    "dic2={3:30, 4:40} \n",
    "dic3={5:50,6:60}\n",
    "Expected Result : {1: 10, 2: 20, 3: 30, 4: 40, 5: 50, 6: 60}\n"
   ]
  },
  {
   "cell_type": "code",
   "execution_count": 33,
   "metadata": {},
   "outputs": [
    {
     "name": "stdout",
     "output_type": "stream",
     "text": [
      "{1: 10, 2: 20, 3: 30, 4: 40, 5: 50, 6: 60}\n"
     ]
    }
   ],
   "source": [
    "dic1={1:10, 2:20} \n",
    "dic2={3:30, 4:40} \n",
    "dic3={5:50,6:60}\n",
    "\n",
    "dic1.update(dic2)\n",
    "dic1.update(dic3)\n",
    "\n",
    "print(dic1)"
   ]
  },
  {
   "cell_type": "markdown",
   "metadata": {},
   "source": [
    "Q9: Write a Python program to add key to a dictionary.\n",
    "Sample Dictionary : {0: 10, 1: 20}\n",
    "Expected Result : {0: 10, 1: 20, 2: 30}\n",
    "\n"
   ]
  },
  {
   "cell_type": "code",
   "execution_count": 38,
   "metadata": {},
   "outputs": [
    {
     "name": "stdout",
     "output_type": "stream",
     "text": [
      "{0: 10, 1: 20, 2: 30}\n"
     ]
    }
   ],
   "source": [
    "sample_Dictionary = {0: 10, 1: 20} \n",
    "sample_Dictionary2 = {2:30}\n",
    "\n",
    "sample_Dictionary.update(sample_Dictionary2)\n",
    "\n",
    "print(sample_Dictionary)"
   ]
  },
  {
   "cell_type": "code",
   "execution_count": 43,
   "metadata": {},
   "outputs": [
    {
     "name": "stdout",
     "output_type": "stream",
     "text": [
      "{0: 10, 1: 20, 2: 30}\n"
     ]
    }
   ],
   "source": [
    "sample_Dictionary9 = {0: 10, 1: 20} \n",
    "sample_Dictionary91 = {2:30}\n",
    "\n",
    "sample_Dictionary9[2] = 30\n",
    "\n",
    "print(sample_Dictionary9)"
   ]
  },
  {
   "cell_type": "markdown",
   "metadata": {},
   "source": [
    "Q10: Write a Python program to print out a set containing all the colors from a list which are not present in another list\n",
    "Test Data : \n",
    "\n",
    "color_list_1 = set([\"White\", \"Black\", \"Red\"]) \n",
    "color_list_2 = set([\"Red\", \"Green\"])"
   ]
  },
  {
   "cell_type": "code",
   "execution_count": 45,
   "metadata": {},
   "outputs": [
    {
     "name": "stdout",
     "output_type": "stream",
     "text": [
      "{'Black', 'White'}\n"
     ]
    }
   ],
   "source": [
    "color_list_1 = set([\"White\", \"Black\", \"Red\"]) \n",
    "color_list_2 = set([\"Red\", \"Green\"])\n",
    "\n",
    "print(color_list_1.difference(color_list_2))"
   ]
  },
  {
   "cell_type": "markdown",
   "metadata": {},
   "source": [
    "Q11: Given a Python list. Write a python program to turn every item of a list into its square List1 = [1, 2, 3, 4, 5, 6, 7]\n",
    "\n",
    "Expected output:\n",
    "\n",
    "[1, 4, 9, 16, 25, 36, 49]\n"
   ]
  },
  {
   "cell_type": "code",
   "execution_count": 49,
   "metadata": {},
   "outputs": [
    {
     "data": {
      "text/plain": [
       "[1, 4, 9, 16, 25, 36, 49]"
      ]
     },
     "execution_count": 49,
     "metadata": {},
     "output_type": "execute_result"
    }
   ],
   "source": [
    "List1 = [1, 2, 3, 4, 5, 6, 7]\n",
    "\n",
    "my_new_list = [i * i for i in List1]\n",
    "my_new_list"
   ]
  },
  {
   "cell_type": "markdown",
   "metadata": {},
   "source": [
    "\n",
    "Q12: Program to count the number of each vowel in a string.\n"
   ]
  },
  {
   "cell_type": "code",
   "execution_count": 52,
   "metadata": {},
   "outputs": [
    {
     "name": "stdout",
     "output_type": "stream",
     "text": [
      "ENTER the string: aeiou\n",
      "5\n"
     ]
    }
   ],
   "source": [
    "user_str = input('ENTER the string: ')\n",
    "count_str = 0\n",
    "vowels=['a','e','i','o','u']\n",
    "vo_dic={'a': 0,'e':0,'i':0,'o':0,'u':0}\n",
    "for i in user_str:\n",
    "    if(i in vowels):\n",
    "        count_str = count_str+1\n",
    "#         vo_dic[vowels.append] = 1\n",
    "        \n",
    "print(count_str)\n",
    "# print(vo_dic)"
   ]
  },
  {
   "cell_type": "code",
   "execution_count": 133,
   "metadata": {},
   "outputs": [
    {
     "name": "stdout",
     "output_type": "stream",
     "text": [
      "ENTER the string: aaeeeiiiiooooooooou\n",
      "Updating a dictionary of vowels {'a': 2, 'e': 3, 'i': 4, 'o': 9, 'u': 1}\n"
     ]
    }
   ],
   "source": [
    "#Updating a dictionary of vowels\n",
    "\n",
    "user_str = input('ENTER the string: ')\n",
    "count_str = 0\n",
    "\n",
    "vowels=['a','e','i','o','u']\n",
    "\n",
    "c = {'a': 0,'e':0,'i':0,'o':0,'u':0}\n",
    "\n",
    "counter = 0\n",
    "\n",
    "for i in range(len(user_str)):\n",
    "    if user_str[counter] in c:\n",
    "#         print(user_str[counter])\n",
    "        c[user_str[counter]]=c[user_str[counter]]+1\n",
    "        counter = counter + 1\n",
    "print(\"Updating a dictionary of vowels\",\n",
    "c)"
   ]
  },
  {
   "cell_type": "markdown",
   "metadata": {},
   "source": [
    "Q13:Write a python program to Access the value of key ‘history’ from the following dictionary-sampleDict = {\n",
    "\n",
    "\"class\":{\n",
    "\"student\":{\n",
    "\"name\":\"Mike\",\n",
    "\"marks\":{\n",
    "\"physics\":70,\n",
    "\"history\":80\n",
    "}\n",
    "}\n",
    "}\n",
    "}\n"
   ]
  },
  {
   "cell_type": "code",
   "execution_count": 63,
   "metadata": {},
   "outputs": [
    {
     "data": {
      "text/plain": [
       "80"
      ]
     },
     "execution_count": 63,
     "metadata": {},
     "output_type": "execute_result"
    }
   ],
   "source": [
    "sampleDict = {\n",
    "\n",
    "\"class\":{\n",
    "\"student\":{\n",
    "\"name\":\"Mike\",\n",
    "\"marks\":{\n",
    "\"physics\":70,\n",
    "\"history\":80\n",
    "}\n",
    "}\n",
    "}\n",
    "}\n",
    "\n",
    "sampleDict['class']['student']['marks']['history']"
   ]
  },
  {
   "cell_type": "code",
   "execution_count": 208,
   "metadata": {},
   "outputs": [
    {
     "name": "stdout",
     "output_type": "stream",
     "text": [
      "Enter string: HJhkjh&**(&\n",
      "HJhkjh\n"
     ]
    }
   ],
   "source": [
    "import string\n",
    "x = string.punctuation\n",
    "\n",
    "user_punc = input(\"Enter string: \")\n",
    "y=''\n",
    "rep=user_punc\n",
    "for i in user_punc:\n",
    "    if i in x:\n",
    "        y = rep.replace(i,'')\n",
    "        rep = y\n",
    "print(rep)\n",
    "    "
   ]
  },
  {
   "cell_type": "markdown",
   "metadata": {},
   "source": [
    "Q15: Write a python program to print the Following:\n",
    "\n",
    "1\n",
    "\n",
    "2  1\n",
    "\n",
    "3  2  1\n"
   ]
  },
  {
   "cell_type": "code",
   "execution_count": 275,
   "metadata": {},
   "outputs": [
    {
     "name": "stdout",
     "output_type": "stream",
     "text": [
      "1\n",
      "21\n",
      "321\n"
     ]
    }
   ],
   "source": [
    "for i in range(1,4):\n",
    "    while(i>0):\n",
    "        print(i, end='')\n",
    "        i=i-1\n",
    "    print()"
   ]
  },
  {
   "cell_type": "markdown",
   "metadata": {},
   "source": [
    "Q16: WAP to print the following asterisk pattern:"
   ]
  },
  {
   "cell_type": "code",
   "execution_count": 282,
   "metadata": {},
   "outputs": [
    {
     "name": "stdout",
     "output_type": "stream",
     "text": [
      "\n",
      "*\n",
      "**\n",
      "***\n",
      "****\n",
      "*****\n",
      "******\n"
     ]
    }
   ],
   "source": [
    "for i in range(7):\n",
    "    while(i>0):\n",
    "        print('*', end='')\n",
    "        i = i -1\n",
    "    print()"
   ]
  },
  {
   "cell_type": "markdown",
   "metadata": {},
   "source": [
    "Q17: WAP to create a function traiangle to print the following asterisk triangle pattern:\n"
   ]
  },
  {
   "cell_type": "code",
   "execution_count": 31,
   "metadata": {},
   "outputs": [
    {
     "name": "stdout",
     "output_type": "stream",
     "text": [
      "*\n",
      "**\n",
      "***\n",
      "****\n",
      "***\n",
      "**\n",
      "*\n"
     ]
    }
   ],
   "source": [
    "for i in range(1,5):\n",
    "    x=0\n",
    "    while(x<i):\n",
    "        print(\"*\", end='')\n",
    "        x = x+1\n",
    "    \n",
    "    print('')\n",
    "for i in range(3,0,-1):\n",
    "    x=0\n",
    "    while(x<i):\n",
    "        print(\"*\", end='')\n",
    "        x = x+1\n",
    "    \n",
    "    print('')"
   ]
  },
  {
   "cell_type": "markdown",
   "metadata": {},
   "source": [
    "Q18: Write a python program to print following multiplication table on the screen\n"
   ]
  },
  {
   "cell_type": "code",
   "execution_count": 93,
   "metadata": {},
   "outputs": [
    {
     "name": "stdout",
     "output_type": "stream",
     "text": [
      "\t 1 \t 2 \t 3 \t 4 \t 5 \t 6 \t 7 \t 8 \t 9 \t 10 \n",
      "\t ---------------------------------------------------------------------------\n",
      "1|\t 1 \t 2 \t 3 \t 4 \t 5 \t 6 \t 7 \t 8 \t 9 \t 10  \n",
      "\n",
      "2|\t 2 \t 4 \t 6 \t 8 \t 10 \t 12 \t 14 \t 16 \t 18 \t 20  \n",
      "\n",
      "3|\t 3 \t 6 \t 9 \t 12 \t 15 \t 18 \t 21 \t 24 \t 27 \t 30  \n",
      "\n",
      "4|\t 4 \t 8 \t 12 \t 16 \t 20 \t 24 \t 28 \t 32 \t 36 \t 40  \n",
      "\n",
      "5|\t 5 \t 10 \t 15 \t 20 \t 25 \t 30 \t 35 \t 40 \t 45 \t 50  \n",
      "\n",
      "6|\t 6 \t 12 \t 18 \t 24 \t 30 \t 36 \t 42 \t 48 \t 54 \t 60  \n",
      "\n",
      "7|\t 7 \t 14 \t 21 \t 28 \t 35 \t 42 \t 49 \t 56 \t 63 \t 70  \n",
      "\n",
      "8|\t 8 \t 16 \t 24 \t 32 \t 40 \t 48 \t 56 \t 64 \t 72 \t 80  \n",
      "\n",
      "9|\t 9 \t 18 \t 27 \t 36 \t 45 \t 54 \t 63 \t 72 \t 81 \t 90  \n",
      "\n",
      "10|\t 10 \t 20 \t 30 \t 40 \t 50 \t 60 \t 70 \t 80 \t 90 \t 100  \n",
      "\n",
      "\n"
     ]
    }
   ],
   "source": [
    "for a in range(1,11):\n",
    "    print('\\t',a,end=' ')\n",
    "print()\n",
    "print('\\t',(\"-\")*75)\n",
    "for i in range (1,11):\n",
    "    \n",
    "    for j in range(1,11):\n",
    "#         while(i==1):\n",
    "#                 print(j,end='_')\n",
    "#                 break\n",
    "#                 print()\n",
    "\n",
    "        while(j==1):\n",
    "            print(i,end='|')\n",
    "            break\n",
    "        print('\\t',i*j, end=' ')\n",
    "\n",
    "        \n",
    "    print('','\\n')\n",
    "print()\n"
   ]
  },
  {
   "cell_type": "code",
   "execution_count": 83,
   "metadata": {},
   "outputs": [
    {
     "name": "stdout",
     "output_type": "stream",
     "text": [
      "\t 1 \t 2 \t 3 \t 4 \t 5 \t 6 \t 7 \t 8 \t 9 \t 10 \n",
      "----------------------------------------------------------------------------------------------------\n"
     ]
    }
   ],
   "source": []
  },
  {
   "cell_type": "code",
   "execution_count": null,
   "metadata": {},
   "outputs": [],
   "source": []
  }
 ],
 "metadata": {
  "kernelspec": {
   "display_name": "Python 3",
   "language": "python",
   "name": "python3"
  },
  "language_info": {
   "codemirror_mode": {
    "name": "ipython",
    "version": 3
   },
   "file_extension": ".py",
   "mimetype": "text/x-python",
   "name": "python",
   "nbconvert_exporter": "python",
   "pygments_lexer": "ipython3",
   "version": "3.8.5"
  }
 },
 "nbformat": 4,
 "nbformat_minor": 4
}
