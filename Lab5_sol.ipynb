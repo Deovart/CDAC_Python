{
 "cells": [
  {
   "cell_type": "markdown",
   "metadata": {},
   "source": [
    "Q 1: write a Program to display the Fibonacci sequence up to n-th term where n is provided by the user\n",
    "  "
   ]
  },
  {
   "cell_type": "code",
   "execution_count": 129,
   "metadata": {},
   "outputs": [
    {
     "name": "stdout",
     "output_type": "stream",
     "text": [
      "Enter the range: 8\n",
      "Fabonacci append step: 1 [1]\n",
      "Fabonacci append step: 2 [1, 2]\n",
      "Fabonacci append step: 3 [1, 2, 3]\n",
      "Fabonacci append step: 4 [1, 2, 3, 5]\n",
      "Fabonacci append step: 5 [1, 2, 3, 5, 8]\n",
      "Fabonacci append step: 6 [1, 2, 3, 5, 8, 13]\n",
      "Fabonacci append step: 7 [1, 2, 3, 5, 8, 13, 21]\n",
      "Final list : [1, 2, 3, 5, 8, 13, 21]\n"
     ]
    }
   ],
   "source": [
    "n = int(input(\"Enter the range: \"))\n",
    "list_fab = []\n",
    "def fibonacci(n):\n",
    "    if n==1 or n ==2:\n",
    "        list_fab.append(n)\n",
    "    else:\n",
    "        x= list_fab[-1] + list_fab[-2]\n",
    "        list_fab.append(x)\n",
    "    print(\"Fabonacci append step: \"+str(i),list_fab)\n",
    "for i in range(1,n):\n",
    "    fibonacci(i)\n",
    "print(\"Final list :\",list_fab)"
   ]
  },
  {
   "cell_type": "code",
   "execution_count": 118,
   "metadata": {},
   "outputs": [
    {
     "data": {
      "text/plain": [
       "53"
      ]
     },
     "execution_count": 118,
     "metadata": {},
     "output_type": "execute_result"
    }
   ],
   "source": [
    "#test\n",
    "list_appa = [1, 4, 9, 16, 25, 36, 49]\n",
    "list_appa.append(4)\n",
    "list_appa[-1] + list_appa[-2]"
   ]
  },
  {
   "cell_type": "markdown",
   "metadata": {},
   "source": [
    "Q2: Write a Python Program To Display Powers of 2 Using Anonymous Function  \n",
    "( Lambda function). Take number of terms from user\n"
   ]
  },
  {
   "cell_type": "code",
   "execution_count": 94,
   "metadata": {},
   "outputs": [
    {
     "name": "stdout",
     "output_type": "stream",
     "text": [
      "Enter no: 1 1\n",
      "Enter no: 2 2\n",
      "Enter no: 3 3\n",
      "Enter no: 4 4\n",
      "Enter no: 5 5\n",
      "Enter no: 6 6\n",
      "Enter no: 7 7\n"
     ]
    },
    {
     "data": {
      "text/plain": [
       "[1, 4, 9, 16, 25, 36, 49]"
      ]
     },
     "execution_count": 94,
     "metadata": {},
     "output_type": "execute_result"
    }
   ],
   "source": [
    "range_num = list(int(input(\"Enter no: \" + str(i+1) +str(\" \"))) for i in range (7))\n",
    "\n",
    "power_two = list(map(lambda x: x ** 2 , range_num))\n",
    "\n",
    "power_two"
   ]
  },
  {
   "cell_type": "markdown",
   "metadata": {},
   "source": [
    "\n",
    "Q3: Write a Python Program to find numbers divisible by thirteen from a list using anonymous function\n"
   ]
  },
  {
   "cell_type": "code",
   "execution_count": 96,
   "metadata": {},
   "outputs": [
    {
     "name": "stdout",
     "output_type": "stream",
     "text": [
      "Enter no: 1 13\n",
      "Enter no: 2 26\n",
      "Enter no: 3 39\n",
      "Enter no: 4 52\n",
      "Enter no: 5 65\n",
      "Enter no: 6 2\n",
      "Enter no: 7 5\n",
      "[13, 26, 39, 52, 65]\n"
     ]
    }
   ],
   "source": [
    "range_num_thirt = list(int(input(\"Enter no: \" + str(i+1) +str(\" \"))) for i in range (7))\n",
    "\n",
    "\n",
    "div_thirteen = list(filter(lambda x: (x%13==0) , range_num_thirt))\n",
    "\n",
    "\n",
    "print(div_thirteen)"
   ]
  },
  {
   "cell_type": "markdown",
   "metadata": {},
   "source": [
    "Q4: Write a Python program to display the Fibonacci sequence up to n-th term by using recursive functions\n"
   ]
  },
  {
   "cell_type": "code",
   "execution_count": 144,
   "metadata": {},
   "outputs": [
    {
     "name": "stdout",
     "output_type": "stream",
     "text": [
      "Enter the range :6\n",
      "0\n",
      "1\n",
      "1\n",
      "2\n",
      "3\n",
      "5\n"
     ]
    }
   ],
   "source": [
    "range_num_fab = int(input(\"Enter the range :\"))\n",
    "\n",
    "\n",
    "def fabbo(n):\n",
    "    if n==1 or n==0:\n",
    "        return n\n",
    "    else:\n",
    "        return fabbo(n-1)+fabbo(n-2)\n",
    "    \n",
    "for i in range(range_num_fab):\n",
    "    print(fabbo(i))"
   ]
  },
  {
   "cell_type": "markdown",
   "metadata": {},
   "source": [
    "Q5: Write a Python program to find the sum of natural numbers up to n using recursive function\n",
    "\n"
   ]
  },
  {
   "cell_type": "code",
   "execution_count": 160,
   "metadata": {},
   "outputs": [
    {
     "name": "stdout",
     "output_type": "stream",
     "text": [
      "Enter the range :10\n"
     ]
    },
    {
     "data": {
      "text/plain": [
       "55"
      ]
     },
     "execution_count": 160,
     "metadata": {},
     "output_type": "execute_result"
    }
   ],
   "source": [
    "sum_natural = int(input(\"Enter the range :\"))\n",
    "\n",
    "start=1\n",
    "sux=0\n",
    "def natural(n):\n",
    "    sux=0\n",
    "    for i in range (n+1):\n",
    "        sux= sux+i\n",
    "        \n",
    "    return(sux)\n",
    "natural(sum_natural)"
   ]
  },
  {
   "cell_type": "code",
   "execution_count": 14,
   "metadata": {},
   "outputs": [
    {
     "name": "stdout",
     "output_type": "stream",
     "text": [
      "Enter the range :10\n",
      "55\n"
     ]
    }
   ],
   "source": [
    "sum_natural = int(input(\"Enter the range :\"))\n",
    "\n",
    "def rec_nat(n):\n",
    "    if n ==1 or n==0:\n",
    "        return n\n",
    "    else:\n",
    "        return rec_nat(n-1)+n\n",
    "\n",
    "    \n",
    "for i in range(1,sum_natural+1):\n",
    "    summ= rec_nat(i)\n",
    "    \n",
    "print(summ)\n",
    "\n"
   ]
  },
  {
   "cell_type": "markdown",
   "metadata": {},
   "source": [
    "Q6: Write a Python program to convert decimal number into binary number using recursive function"
   ]
  },
  {
   "cell_type": "code",
   "execution_count": 59,
   "metadata": {},
   "outputs": [
    {
     "name": "stdout",
     "output_type": "stream",
     "text": [
      "Enter decimal number: 432\n"
     ]
    },
    {
     "data": {
      "text/plain": [
       "110110000"
      ]
     },
     "execution_count": 59,
     "metadata": {},
     "output_type": "execute_result"
    }
   ],
   "source": [
    "decx = int(input(\"Enter decimal number: \"))\n",
    "\n",
    "def deci_bin(deci):\n",
    "\n",
    "    if (deci == 0):\n",
    "        return 0\n",
    "    else:\n",
    "        return (deci % 2 + 10*deci_bin(int(deci//2)))\n",
    "                            \n",
    "deci_bin(decx)"
   ]
  }
 ],
 "metadata": {
  "kernelspec": {
   "display_name": "Python 3",
   "language": "python",
   "name": "python3"
  }
 },
 "nbformat": 4,
 "nbformat_minor": 4
}
